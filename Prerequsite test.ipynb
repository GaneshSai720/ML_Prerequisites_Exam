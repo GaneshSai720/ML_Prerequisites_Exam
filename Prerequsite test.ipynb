{
 "cells": [
  {
   "cell_type": "markdown",
   "id": "c56f0f87-1400-4db9-9480-14801a90eef7",
   "metadata": {},
   "source": [
    "Q1"
   ]
  },
  {
   "cell_type": "markdown",
   "id": "ae7fd7da-eaf5-45e3-bd9f-122da67f20b2",
   "metadata": {},
   "source": [
    "Ans: There would be n*m*k multiplications and there would be n*m*(k-1) additions, to perform a matrix multiplication between a (n, k) and (k, m) matrix. There has to be m*k and m*(k-1) mulitplications for 1 row, so when we assume there are n rows we can simply multiply with n and that results n*m*k and n*m*(k-1) as mulitplications and addtions respectively."
   ]
  },
  {
   "cell_type": "markdown",
   "id": "1d3ec22d-8d6f-4a6a-9c02-0316066f4301",
   "metadata": {},
   "source": [
    "Q2"
   ]
  },
  {
   "cell_type": "code",
   "execution_count": 1,
   "id": "716613c1-fd13-4733-820a-426846110969",
   "metadata": {},
   "outputs": [
    {
     "name": "stdout",
     "output_type": "stream",
     "text": [
      "Time taken for matrix multiplication using numpy: 1.6243457794189452e-05\n",
      "TIme taken for matrix multiplication using lists: 0.002075369358062744\n"
     ]
    }
   ],
   "source": [
    "import numpy as np\n",
    "import random\n",
    "import time\n",
    "# (n,k) and (k,m) arrays\n",
    "\n",
    "\n",
    "def Multiplication_lists(loli_1:list, loli_2:list, n, m):\n",
    "    start_time:time = time.time()\n",
    "    mul_ans = [[0 for i in range(m)]for j in range(n)]\n",
    "    for i in range(n):\n",
    "        for j in range(m):\n",
    "            temp = 0\n",
    "            for p in range(k):\n",
    "                temp += loli_1[i][p]*loli_2[p][j]\n",
    "            mul_ans[i][j] = temp\n",
    "    end_time:time = time.time()\n",
    "    li_time:time = end_time - start_time\n",
    "    return li_time\n",
    "\n",
    "def Multiplication_np(np_array_1:np.ndarray, np_array_2:np.ndarray, n, m):\n",
    "    np_start_time:time = time.time()\n",
    "    np_mul_ans = np.matmul(np_array_1, np_array_2)\n",
    "    np_end_time:time = time.time()\n",
    "    np_time:time = np_end_time - np_start_time\n",
    "    return np_time\n",
    "\n",
    "\n",
    "n, k, m = 100, 300, 100 \n",
    "li_temp:time = 0\n",
    "np_temp:time = 0\n",
    "for i in range(100):\n",
    "    loli_1 = [[random.randint(1,100) for i in range(k)]for j in range(n)]\n",
    "    loli_2 = [[random.randint(1,100) for i in range(m)]for j in range(k)]\n",
    "    np_array_1 = np.array(loli_1)\n",
    "    np_array_2 = np.array(loli_2)\n",
    "    \n",
    "    li_temp = Multiplication_lists(loli_1, loli_2, n, m)\n",
    "    np_temp = Multiplication_np(np_array_1, np_array_2, n, m)\n",
    "\n",
    "li_time = li_temp/100\n",
    "np_time = np_temp/100\n",
    "\n",
    "print(\"Time taken for matrix multiplication using numpy: {}\".format(np_time))\n",
    "print(\"TIme taken for matrix multiplication using lists: {}\".format(li_time))"
   ]
  },
  {
   "cell_type": "markdown",
   "id": "1b54f8a5-bfd4-4e65-a4c9-56d16828ed6a",
   "metadata": {},
   "source": [
    "Q3"
   ]
  },
  {
   "cell_type": "code",
   "execution_count": 52,
   "id": "3e471e8c-d928-4031-99f3-5436b25f9b69",
   "metadata": {},
   "outputs": [
    {
     "name": "stdout",
     "output_type": "stream",
     "text": [
      "Time taken for using numpy: 0.00013214349746704102\n",
      "TIme taken for using lists using opt: 0.00042563915252685547\n",
      "TIme taken for using lists using norm: 0.34606448173522947\n"
     ]
    }
   ],
   "source": [
    "def find_min(lis:list):\n",
    "    mini = 1000\n",
    "    for i in range(len(lis)):\n",
    "        if(mini>lis[i]):\n",
    "            mini = lis[i]\n",
    "            index = i\n",
    "    return(index, mini)\n",
    "\n",
    "def finding_the_median_norm(lis_1:list):\n",
    "    start_time:time = time.time()\n",
    "    length = len(lis_1)\n",
    "    lis = lis_1\n",
    "    count = 0\n",
    "    ans_1:float = -1\n",
    "    ans_2:time = -1\n",
    "    \n",
    "    if(length%2 != 0):\n",
    "        while(count <= length//2):\n",
    "            i, temp = find_min(lis)\n",
    "            lis[i] = 1000\n",
    "            count += 1\n",
    "        ans_1 = temp\n",
    "            \n",
    "    elif(length%2 == 0):\n",
    "        while(count <= length//2):\n",
    "            i, temp = find_min(lis)\n",
    "            lis[i] = 1000\n",
    "            if(count == length//2):\n",
    "                temp_1:float = temp\n",
    "            elif(count == (length//2)-1):\n",
    "                temp_2:float = temp\n",
    "            count += 1\n",
    "        ans_1 = (temp_1 + temp_2)/2\n",
    "\n",
    "    end_time:time = time.time()\n",
    "    ans_2 = end_time-start_time\n",
    "\n",
    "    return(ans_1, ans_2)\n",
    "\n",
    "def finding_the_median_opt(lis:list):\n",
    "    start_time:time = time.time()\n",
    "    length = len(lis)\n",
    "    sorted_lis = sorted(lis)\n",
    "    ans_1:float = 0\n",
    "    if(length%2 != 0):\n",
    "        ans_1 = sorted_lis[length//2]\n",
    "\n",
    "    if(length%2 == 0):\n",
    "        ans_1 = (sorted_lis[length//2]+sorted_lis[(length//2)-1])/2\n",
    "        \n",
    "    end_time:time = time.time()\n",
    "    ans_2:time = end_time-start_time\n",
    "    return (ans_1, ans_2)\n",
    "\n",
    "def finding_the_median_np(np_array_1:np.ndarray):\n",
    "    start_time:time = time.time()\n",
    "    ans_1:float = np.median(np_array_1)\n",
    "    end_time:time = time.time()\n",
    "    ans_2:time = end_time-start_time\n",
    "    return(ans_1, ans_2)\n",
    "\n",
    "sum_li_opt_time:time = 0\n",
    "sum_np_time:time = 0print\n",
    "sum_li_norm_time:time = 0\n",
    "\n",
    "for i in range(100):\n",
    "    lis_1 = [random.randint(1,1000) for _ in range(5000)]\n",
    "    lis_2 = lis_1[:]\n",
    "    np_1 = np.array(lis_1)\n",
    "\n",
    "    li_ans_1, li_ans_2 = finding_the_median_norm(lis_1)\n",
    "    sum_li_norm_time += li_ans_2\n",
    "    \n",
    "    li_ans_3, li_ans_4 = finding_the_median_opt(lis_2)\n",
    "    sum_li_opt_time += li_ans_4\n",
    "    \n",
    "    np_ans_1, np_ans_2 = finding_the_median_np(np_1)\n",
    "    sum_np_time += np_ans_2\n",
    "\n",
    "li_norm_time = sum_li_norm_time/100\n",
    "li_opt_time = sum_li_opt_time/100\n",
    "np_time = sum_np_time/100\n",
    "\n",
    "print(\"Time taken for using numpy: {}\".format(np_time))\n",
    "print(\"TIme taken for using lists using opt: {}\".format(li_opt_time))\n",
    "print(\"TIme taken for using lists using norm: {}\".format(li_norm_time))"
   ]
  },
  {
   "attachments": {},
   "cell_type": "markdown",
   "id": "b880fb97-5322-4da8-b534-07215a667029",
   "metadata": {},
   "source": [
    "Q4"
   ]
  },
  {
   "cell_type": "markdown",
   "id": "6b02c4b1-7f8a-4ef2-8ede-6d5f58eb3601",
   "metadata": {},
   "source": [
    "The Gradient of (x^2)*y + (y^3)*sin(x) with respect to x = 2x*y + (y^3)*cos(x)\n",
    "\n",
    "The Gradient of (x^2)*y + (y^3)*sin(x) with respect to y = x^2 + (3y^2)*sin(x)"
   ]
  },
  {
   "cell_type": "markdown",
   "id": "375bf014-3a66-40d1-a8c0-49aee12c0a1d",
   "metadata": {},
   "source": [
    "Q5"
   ]
  },
  {
   "cell_type": "code",
   "execution_count": 45,
   "id": "54d4e145-cab5-4a29-999a-75bcb9f0c9f9",
   "metadata": {},
   "outputs": [
    {
     "name": "stdout",
     "output_type": "stream",
     "text": [
      "Gradient of f at x = 0.5 y = 1.0 is: (Array(1.8775826, dtype=float32, weak_type=True), Array(1.6882766, dtype=float32, weak_type=True))\n",
      "1.8775825618903728 1.688276615812609\n"
     ]
    }
   ],
   "source": [
    "import jax\n",
    "import jax.numpy as jnp\n",
    "import math\n",
    "\n",
    "def f(x, y):\n",
    " return (x**2) * y + (y**3) * jnp.sin(x)\n",
    "\n",
    "def df_dx(x,y):\n",
    "    return 2*x*y + y**3*(math.cos(x))\n",
    "\n",
    "def df_dy(x,y):\n",
    "    return x**2 + 3*y**2*(math.sin(x))\n",
    "    \n",
    "grad_f = jax.grad(f, argnums=(0, 1))  # Gradient w.r.t. both x and y\n",
    "\n",
    "x = 0.5\n",
    "y = 1.0\n",
    "\n",
    "gradient_x, gradient_y = grad_f(x, y)\n",
    "\n",
    "print(\"Gradient of f at x =\", x, \"y =\", y, \"is:\", (gradient_x, gradient_y))\n",
    "grad_x = df_dx(x, y)\n",
    "grad_y = df_dy(x, y)\n",
    "print(grad_x, grad_y)"
   ]
  },
  {
   "cell_type": "markdown",
   "id": "be8ebbff-098b-44aa-a4a0-e38e89dd1424",
   "metadata": {},
   "source": [
    "Q6"
   ]
  },
  {
   "cell_type": "code",
   "execution_count": 46,
   "id": "75637466-3373-4c1c-a27f-ea04145a64b3",
   "metadata": {},
   "outputs": [
    {
     "name": "stdout",
     "output_type": "stream",
     "text": [
      "x**2*y + y**3*sin(x)\n",
      "2*x*y + y**3*cos(x)\n",
      "x**2 + 3*y**2*sin(x)\n"
     ]
    }
   ],
   "source": [
    "from sympy import symbols, diff, sin, rad\n",
    "\n",
    "x, y = symbols('x y')\n",
    "f = (x**2) * y + (y**3) * sin(x)\n",
    "\n",
    "df_dx = diff(f, x)\n",
    "df_dy = diff(f, y)\n",
    "\n",
    "print(f)\n",
    "print(df_dx)\n",
    "print(df_dy)"
   ]
  },
  {
   "cell_type": "markdown",
   "id": "f4565926-ed4f-448a-8be6-f9b047ce02ba",
   "metadata": {},
   "source": [
    "Q7"
   ]
  },
  {
   "cell_type": "code",
   "execution_count": 96,
   "id": "4e58e572-7ed1-44a6-af48-8b6701165a1d",
   "metadata": {},
   "outputs": [],
   "source": [
    "nested_dict = {2022:{'Branch 1':{'Student_1':{\"Roll_No\":1, 'Name':\"John\",'Marks':{'Maths':60, 'English':80, 'Physics':100}}, 'Student_2':{\"Roll_No\":2, 'Name':\"Sony\",'Marks':{'Maths':60, 'English':80, 'Physics':100}}}}}"
   ]
  },
  {
   "cell_type": "code",
   "execution_count": 98,
   "id": "bff71985-b76e-471e-b5bf-2fe31fc8d9c4",
   "metadata": {},
   "outputs": [
    {
     "name": "stdout",
     "output_type": "stream",
     "text": [
      "{'Roll_No': 2, 'Name': 'Sony', 'Marks': {'Maths': 60, 'English': 80, 'Physics': 100}}\n"
     ]
    }
   ],
   "source": [
    "print(nested_dict[2022]['Branch 1']['Student_2'])"
   ]
  },
  {
   "cell_type": "code",
   "execution_count": 99,
   "id": "c4232b97-2013-4915-ba16-5c8913e6dc11",
   "metadata": {},
   "outputs": [
    {
     "name": "stdout",
     "output_type": "stream",
     "text": [
      "{'Student_1': {'Roll_No': 1, 'Name': 'John', 'Marks': {'Maths': 60, 'English': 80, 'Physics': 100}}, 'Student_2': {'Roll_No': 2, 'Name': 'Sony', 'Marks': {'Maths': 60, 'English': 80, 'Physics': 100}}}\n"
     ]
    }
   ],
   "source": [
    "print(nested_dict[2022]['Branch 1'])"
   ]
  },
  {
   "cell_type": "markdown",
   "id": "ab10e1c0-249d-4b0c-b3ba-946658063386",
   "metadata": {},
   "source": [
    "Q8"
   ]
  },
  {
   "cell_type": "code",
   "execution_count": 110,
   "id": "f819d063-2c77-471d-b4d1-11b4dbf23bc0",
   "metadata": {},
   "outputs": [
    {
     "name": "stdout",
     "output_type": "stream",
     "text": [
      "{'Maths': 93, 'Physics': 91, 'Chemistry': 91} {'Maths': 94, 'Physics': 91, 'Chemistry': 97}\n"
     ]
    }
   ],
   "source": [
    "import random\n",
    "class Student:\n",
    "    def __init__(self, Roll_number, Name):\n",
    "        self.Name = Name\n",
    "        self.Roll_number = Roll_number\n",
    "\n",
    "    def add_Marks(self, Marks):\n",
    "        self.Marks = Marks\n",
    "\n",
    "class Branch:\n",
    "    def __init__(self, Branch_Name):\n",
    "        self.Branch_Name = Branch_Name\n",
    "        self.students = []\n",
    "\n",
    "    def add_Student(self, Student):\n",
    "        self.Student = Student\n",
    "        self.students.append(Student)\n",
    "        \n",
    "class Year:\n",
    "    def __init__(self, Year_No):\n",
    "        self.Year_No = Year_No\n",
    "        self.Branches = []\n",
    "        \n",
    "    def add_Branch(self, Branch):\n",
    "        self.Branches.append(Branch)\n",
    "\n",
    "class Students_Data:\n",
    "    def __init__(self, Name):\n",
    "        self.Name = Name\n",
    "        self.yearly_data = []\n",
    "\n",
    "    def add_Year(self, Year):\n",
    "        self.yearly_data.append(Year)\n",
    "        \n",
    "def gen_rand_marks():\n",
    "    return {\"Maths\":random.randint(80,100),\"Physics\":random.randint(80,100),\"Chemistry\":random.randint(70,100)}\n",
    "    \n",
    "student_1 = Student(\"2111\", \"Cony\")\n",
    "student_2 = Student(\"2010\", \"John\")\n",
    "student_1.add_Marks(gen_rand_marks())\n",
    "student_2.add_Marks(gen_rand_marks())\n",
    "print(student_1.Marks, student_2.Marks)\n",
    "Branch_1 = Branch(\"EE\")\n",
    "Branch_2 = Branch(\"CS\")\n",
    "Branch_1.add_Student(student_1)\n",
    "Branch_1.add_Student(student_2)\n",
    "Year_2022 = Year(2022)\n",
    "Year_2022.add_Branch(Branch_1)\n",
    "Year_2022.add_Branch(Branch_2)\n",
    "Students_Data_1 = Students_Data(\"Dataset1\")\n",
    "Students_Data_1.add_Year(Year_2022) "
   ]
  },
  {
   "cell_type": "markdown",
   "id": "396f38a5-a780-4818-8635-92a97ce78e70",
   "metadata": {},
   "source": [
    "Q9"
   ]
  },
  {
   "cell_type": "code",
   "execution_count": 146,
   "id": "550a8e40-3ccf-4a6f-969a-d4da468c9eb1",
   "metadata": {},
   "outputs": [
    {
     "data": {
      "image/png": "[encoded data removed]",
      "text/plain": [
       "<Figure size 1500x600 with 8 Axes>"
      ]
     },
     "metadata": {},
     "output_type": "display_data"
    }
   ],
   "source": [
    "import numpy as np\n",
    "import matplotlib.pyplot as plt\n",
    "x = np.arange(0.5,100.5,0.5)\n",
    "y1 = x\n",
    "y2 = x**2\n",
    "y3 = (x**3)/100\n",
    "y4 = np.sin(x)\n",
    "y5 = (np.sin(x))/x\n",
    "y6 = np.log(x)\n",
    "y7 = np.exp(x)\n",
    "\n",
    "fig, figures = plt.subplots(2,4,figsize=(15,6)) \n",
    "\n",
    "figures[0][0].plot(x,y1,label=\"1\")\n",
    "figures[0][1].plot(x,y2,label=\"2\")\n",
    "figures[0][2].plot(x,y3,label=\"3\")\n",
    "figures[0][3].plot(x,y4,label=\"4\")\n",
    "figures[1][0].plot(x,y5,label=\"5\")\n",
    "figures[1][1].plot(x,y6,label=\"6\")\n",
    "figures[1][2].plot(x,y7,label=\"7\")\n",
    "\n",
    "count = 1\n",
    "\n",
    "for i in range(2):\n",
    "    for j in range(4):\n",
    "        figures[i][j].set_xlabel(\"x\")\n",
    "        figures[i][j].set_ylabel(\"y\")\n",
    "        figures[i][j].set_title(count)\n",
    "        count += 1\n",
    "fig.legend()\n",
    "plt.show()"
   ]
  },
  {
   "cell_type": "markdown",
   "id": "280a34f1-21a4-45bf-804b-2cdf820f19fa",
   "metadata": {},
   "source": [
    "Q10"
   ]
  },
  {
   "cell_type": "code",
   "execution_count": 172,
   "id": "a67b1c88-c266-4432-b486-36c84d2e094b",
   "metadata": {},
   "outputs": [
    {
     "name": "stdout",
     "output_type": "stream",
     "text": [
      "column with the highest standard deviation: d\n",
      "row with lowest mean: 11\n"
     ]
    }
   ],
   "source": [
    "import pandas as pd\n",
    "import numpy as np\n",
    "np.random.seed(100)\n",
    "np_array_1 = np.random.uniform(1,2,(20,5))\n",
    "# print(np_array_1)\n",
    "df = pd.DataFrame(np_array_1, columns = [\"a\",\"b\",\"c\",\"d\",\"e\"])\n",
    "# print(df)\n",
    "print(\"column with the highest standard deviation: {}\".format(df.std(axis=0).idxmax()))\n",
    "print(\"row with lowest mean: {}\".format(df.mean(axis=1).idxmin()))"
   ]
  },
  {
   "cell_type": "markdown",
   "id": "b96dff3e-12c6-4323-80cf-559f607bc622",
   "metadata": {},
   "source": [
    "Q11"
   ]
  },
  {
   "cell_type": "code",
   "execution_count": 190,
   "id": "ece0b982-3448-46b2-8241-207bfaa46cb8",
   "metadata": {},
   "outputs": [
    {
     "name": "stdout",
     "output_type": "stream",
     "text": [
      "0     7.095787\n",
      "1     7.329971\n",
      "2     6.613927\n",
      "3     8.052546\n",
      "4     7.700906\n",
      "5     6.441864\n",
      "6     6.726215\n",
      "7     8.398722\n",
      "8     7.184972\n",
      "9     7.702786\n",
      "10    8.173022\n",
      "11    6.306259\n",
      "12    7.675441\n",
      "13    7.503976\n",
      "14    7.620531\n",
      "15    7.225213\n",
      "16    7.512388\n",
      "17    7.842499\n",
      "18    6.717606\n",
      "19    7.412047\n",
      "Name: f, dtype: float64\n",
      "           a         b         c         d         e         f    g\n",
      "0   1.543405  1.278369  1.424518  1.844776  1.004719  7.095787  LT8\n",
      "1   1.121569  1.670749  1.825853  1.136707  1.575093  7.329971  LT8\n",
      "2   1.891322  1.209202  1.185328  1.108377  1.219697  6.613927  LT8\n",
      "3   1.978624  1.811683  1.171941  1.816225  1.274074  8.052546  GT8\n",
      "4   1.431704  1.940030  1.817649  1.336112  1.175410  7.700906  LT8\n",
      "5   1.372832  1.005689  1.252426  1.795663  1.015255  6.441864  LT8\n",
      "6   1.598843  1.603805  1.105148  1.381943  1.036476  6.726215  LT8\n",
      "7   1.890412  1.980921  1.059942  1.890546  1.576901  8.398722  GT8\n",
      "8   1.742480  1.630184  1.581842  1.020439  1.210027  7.184972  LT8\n",
      "9   1.544685  1.769115  1.250695  1.285896  1.852395  7.702786  LT8\n",
      "10  1.975006  1.884853  1.359508  1.598859  1.354796  8.173022  GT8\n",
      "11  1.340190  1.178081  1.237694  1.044862  1.505431  6.306259  LT8\n",
      "12  1.376252  1.592805  1.629942  1.142600  1.933841  7.675441  LT8\n",
      "13  1.946380  1.602297  1.387766  1.363188  1.204345  7.503976  LT8\n",
      "14  1.276765  1.246536  1.173608  1.966610  1.957013  7.620531  LT8\n",
      "15  1.597974  1.731301  1.340385  1.092056  1.463498  7.225213  LT8\n",
      "16  1.508699  1.088460  1.528035  1.992158  1.395036  7.512388  LT8\n",
      "17  1.335596  1.805451  1.754349  1.313066  1.634037  7.842499  LT8\n",
      "18  1.540405  1.296794  1.110788  1.312640  1.456979  6.717606  LT8\n",
      "19  1.658940  1.254258  1.641101  1.200124  1.657625  7.412047  LT8\n",
      "0.4844139544789879\n",
      "0.1757328272304763\n"
     ]
    }
   ],
   "source": [
    "df[\"f\"] = df[\"a\"]+df[\"b\"]+df[\"c\"]+df[\"d\"]+df[\"e\"]\n",
    "print(df[\"f\"])\n",
    "df[\"g\"] = df[\"g\"].astype(str)\n",
    "count = 0\n",
    "print(df)\n",
    "for element in df[\"f\"]:\n",
    "    if(element<8):\n",
    "        df.loc[count, \"g\"] = \"LT8\"\n",
    "    else:\n",
    "        df.loc[count, \"g\"] = \"GT8\"\n",
    "    count += 1\n",
    "\n",
    "std_lt8 = df.loc[df[\"g\"]==\"LT8\",'f'].std()\n",
    "std_gt8 = df.loc[df[\"g\"]==\"GT8\",'f'].std()\n",
    "\n",
    "\n",
    "print(std_lt8)\n",
    "print(std_gt8)"
   ]
  },
  {
   "cell_type": "markdown",
   "id": "241feeb7-38ed-4288-8171-80f208d1ebb6",
   "metadata": {},
   "source": [
    "Q12"
   ]
  },
  {
   "cell_type": "code",
   "execution_count": 191,
   "id": "24454355-8afd-45fe-958c-358d56db1a03",
   "metadata": {},
   "outputs": [
    {
     "name": "stdout",
     "output_type": "stream",
     "text": [
      "Original 2D Array:\n",
      "[[1 2 3]\n",
      " [4 5 6]]\n",
      "Broadcasted 1D Array:\n",
      "[10 20 30]\n",
      "Result after Broadcasting (2D):\n",
      "[[11 22 33]\n",
      " [14 25 36]]\n"
     ]
    }
   ],
   "source": [
    "array_2d = np.array([[1, 2, 3], [4, 5, 6]])\n",
    "array_1d_broadcasted = np.array([10, 20, 30])\n",
    "\n",
    "# Broadcasting: Adding the 1D array to each row of the 2D array\n",
    "result_2d = array_2d + array_1d_broadcasted\n",
    "\n",
    "print(\"Original 2D Array:\")\n",
    "print(array_2d)\n",
    "print(\"Broadcasted 1D Array:\")\n",
    "print(array_1d_broadcasted)\n",
    "print(\"Result after Broadcasting (2D):\")\n",
    "print(result_2d)\n"
   ]
  },
  {
   "cell_type": "markdown",
   "id": "46b19b88-6b1c-4cef-afb0-aa98cfd31781",
   "metadata": {},
   "source": [
    "Q13"
   ]
  },
  {
   "cell_type": "code",
   "execution_count": 213,
   "id": "7196d297-f9a3-4bc1-993f-4254aeb5979d",
   "metadata": {},
   "outputs": [
    {
     "name": "stdout",
     "output_type": "stream",
     "text": [
      "(5, 1)\n",
      "5\n",
      "[3 3 2 3 3 1 3 4 4 3]\n"
     ]
    }
   ],
   "source": [
    "# np.random.seed(100)\n",
    "def manual_argmin(np_array:np.ndarray):\n",
    "    min = np_array[0]\n",
    "    ans = 0\n",
    "    for index,element in enumerate(np_array):\n",
    "        if(min>element):\n",
    "            ans = index\n",
    "            min = element\n",
    "    return ans,min\n",
    "\n",
    "np_array = np.random.randint(1,5,10)\n",
    "np_array_1 = np.random.randint(1,5,(7,10))\n",
    "print(manual_argmin(np_array))\n",
    "print(np_array_1.argmin())\n",
    "print(np_array)"
   ]
  }
 ],
 "metadata": {
  "kernelspec": {
   "display_name": "Python 3 (ipykernel)",
   "language": "python",
   "name": "python3"
  },
  "language_info": {
   "codemirror_mode": {
    "name": "ipython",
    "version": 3
   },
   "file_extension": ".py",
   "mimetype": "text/x-python",
   "name": "python",
   "nbconvert_exporter": "python",
   "pygments_lexer": "ipython3",
   "version": "3.10.12"
  }
 },
 "nbformat": 4,
 "nbformat_minor": 5
}
